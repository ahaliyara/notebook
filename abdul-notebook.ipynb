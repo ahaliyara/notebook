{
 "cells": [
  {
   "cell_type": "markdown",
   "id": "14ffd6bf",
   "metadata": {
    "execution": {
     "iopub.execute_input": "2025-03-19T05:21:10.283026Z",
     "iopub.status.busy": "2025-03-19T05:21:10.282738Z",
     "iopub.status.idle": "2025-03-19T05:21:10.289804Z",
     "shell.execute_reply": "2025-03-19T05:21:10.288650Z",
     "shell.execute_reply.started": "2025-03-19T05:21:10.282993Z"
    },
    "papermill": {
     "duration": 0.002021,
     "end_time": "2025-03-19T05:30:33.952675",
     "exception": false,
     "start_time": "2025-03-19T05:30:33.950654",
     "status": "completed"
    },
    "tags": []
   },
   "source": [
    "#This is my first notebook"
   ]
  },
  {
   "cell_type": "code",
   "execution_count": 1,
   "id": "9a2c0871",
   "metadata": {
    "execution": {
     "iopub.execute_input": "2025-03-19T05:30:33.957177Z",
     "iopub.status.busy": "2025-03-19T05:30:33.956794Z",
     "iopub.status.idle": "2025-03-19T05:30:33.963579Z",
     "shell.execute_reply": "2025-03-19T05:30:33.962393Z"
    },
    "papermill": {
     "duration": 0.010686,
     "end_time": "2025-03-19T05:30:33.965082",
     "exception": false,
     "start_time": "2025-03-19T05:30:33.954396",
     "status": "completed"
    },
    "tags": []
   },
   "outputs": [
    {
     "name": "stdout",
     "output_type": "stream",
     "text": [
      "This is my first commit from kaggle\n"
     ]
    }
   ],
   "source": [
    "print(\"This is my first commit from kaggle\")"
   ]
  },
  {
   "cell_type": "code",
   "execution_count": 2,
   "id": "4ca3a0af",
   "metadata": {
    "execution": {
     "iopub.execute_input": "2025-03-19T05:30:33.969531Z",
     "iopub.status.busy": "2025-03-19T05:30:33.969205Z",
     "iopub.status.idle": "2025-03-19T05:30:33.974828Z",
     "shell.execute_reply": "2025-03-19T05:30:33.973993Z"
    },
    "papermill": {
     "duration": 0.009428,
     "end_time": "2025-03-19T05:30:33.976282",
     "exception": false,
     "start_time": "2025-03-19T05:30:33.966854",
     "status": "completed"
    },
    "tags": []
   },
   "outputs": [
    {
     "data": {
      "text/plain": [
       "4"
      ]
     },
     "execution_count": 2,
     "metadata": {},
     "output_type": "execute_result"
    }
   ],
   "source": [
    "2+2"
   ]
  }
 ],
 "metadata": {
  "kaggle": {
   "accelerator": "none",
   "dataSources": [],
   "dockerImageVersionId": 30918,
   "isGpuEnabled": false,
   "isInternetEnabled": false,
   "language": "python",
   "sourceType": "notebook"
  },
  "kernelspec": {
   "display_name": "Python 3",
   "language": "python",
   "name": "python3"
  },
  "language_info": {
   "codemirror_mode": {
    "name": "ipython",
    "version": 3
   },
   "file_extension": ".py",
   "mimetype": "text/x-python",
   "name": "python",
   "nbconvert_exporter": "python",
   "pygments_lexer": "ipython3",
   "version": "3.10.12"
  },
  "papermill": {
   "default_parameters": {},
   "duration": 3.172506,
   "end_time": "2025-03-19T05:30:34.397048",
   "environment_variables": {},
   "exception": null,
   "input_path": "__notebook__.ipynb",
   "output_path": "__notebook__.ipynb",
   "parameters": {},
   "start_time": "2025-03-19T05:30:31.224542",
   "version": "2.6.0"
  }
 },
 "nbformat": 4,
 "nbformat_minor": 5
}
